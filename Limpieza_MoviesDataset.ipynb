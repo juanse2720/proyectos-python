{
 "cells": [
  {
   "cell_type": "markdown",
   "id": "673f2965",
   "metadata": {},
   "source": [
    "# Limpieza de Datos: Movies Dataset\n",
    "\n",
    "Este notebook presenta un proceso de limpieza de datos aplicado al dataset de películas, disponible en Kaggle.  \n",
    "El objetivo es identificar y tratar al menos cinco problemáticas que afectan la calidad del dataset para su posterior análisis.\n",
    "\n",
    "Dataset: [Movies Dataset - Kaggle](https://www.kaggle.com/datasets/bharatnatrayn/movies-dataset-for-feature-extracion-prediction)\n"
   ]
  },
  {
   "cell_type": "code",
   "execution_count": null,
   "id": "2cfc6f10",
   "metadata": {},
   "outputs": [],
   "source": [
    "import pandas as pd\n",
    "import numpy as np\n",
    "import matplotlib.pyplot as plt\n",
    "import seaborn as sns\n",
    "\n",
    "# Configuración general\n",
    "sns.set(style=\"whitegrid\")\n"
   ]
  },
  {
   "cell_type": "code",
   "execution_count": null,
   "id": "6e25746a",
   "metadata": {},
   "outputs": [],
   "source": [
    "# Cargar el archivo CSV (ajustar nombre si es necesario)\n",
    "df = pd.read_csv(\"movies.csv\")\n",
    "df.head()"
   ]
  },
  {
   "cell_type": "markdown",
   "id": "75c57fc3",
   "metadata": {},
   "source": [
    "## Revisión Inicial del Dataset"
   ]
  },
  {
   "cell_type": "code",
   "execution_count": null,
   "id": "a45fc060",
   "metadata": {},
   "outputs": [],
   "source": [
    "# Información general\n",
    "df.info()"
   ]
  },
  {
   "cell_type": "code",
   "execution_count": null,
   "id": "1005d633",
   "metadata": {},
   "outputs": [],
   "source": [
    "# Verificar valores nulos\n",
    "df.isnull().sum().sort_values(ascending=False)"
   ]
  },
  {
   "cell_type": "code",
   "execution_count": null,
   "id": "c374e127",
   "metadata": {},
   "outputs": [],
   "source": [
    "# Duplicados\n",
    "df.duplicated().sum()"
   ]
  },
  {
   "cell_type": "markdown",
   "id": "ab0e0944",
   "metadata": {},
   "source": [
    "## Problemas Identificados y Procesos de Limpieza"
   ]
  },
  {
   "cell_type": "markdown",
   "id": "959ecd0e",
   "metadata": {},
   "source": [
    "### 1. Valores Nulos\n",
    "Algunas columnas tienen un número elevado de valores nulos. Se decidirá si imputar o eliminar según el caso.\n"
   ]
  },
  {
   "cell_type": "code",
   "execution_count": null,
   "id": "764d2a81",
   "metadata": {},
   "outputs": [],
   "source": [
    "# Eliminar columnas con más del 50% de nulos\n",
    "null_threshold = len(df) * 0.5\n",
    "df = df.loc[:, df.isnull().sum() < null_threshold]\n",
    "df.shape"
   ]
  },
  {
   "cell_type": "markdown",
   "id": "ef72232a",
   "metadata": {},
   "source": [
    "### 2. Filas duplicadas\n",
    "Es importante eliminar entradas repetidas para evitar sesgos en el análisis.\n"
   ]
  },
  {
   "cell_type": "code",
   "execution_count": null,
   "id": "ec4d865b",
   "metadata": {},
   "outputs": [],
   "source": [
    "# Eliminar duplicados\n",
    "df = df.drop_duplicates()\n",
    "df.shape"
   ]
  },
  {
   "cell_type": "markdown",
   "id": "9b1c04a9",
   "metadata": {},
   "source": [
    "### 3. Formato incorrecto de fechas\n",
    "Asegurarse de que las columnas de fecha estén en el formato datetime.\n"
   ]
  },
  {
   "cell_type": "code",
   "execution_count": null,
   "id": "2cd64420",
   "metadata": {},
   "outputs": [],
   "source": [
    "# Convertir a formato datetime si existe una columna de fecha\n",
    "if 'release_date' in df.columns:\n",
    "    df['release_date'] = pd.to_datetime(df['release_date'], errors='coerce')\n",
    "    df['release_date'].head()"
   ]
  },
  {
   "cell_type": "markdown",
   "id": "935092ec",
   "metadata": {},
   "source": [
    "### 4. Valores inconsistentes en columnas categóricas\n",
    "Estandarización de texto en columnas como género o país.\n"
   ]
  },
  {
   "cell_type": "code",
   "execution_count": null,
   "id": "74848cf2",
   "metadata": {},
   "outputs": [],
   "source": [
    "# Estandarizar strings si la columna 'genre' existe\n",
    "if 'genre' in df.columns:\n",
    "    df['genre'] = df['genre'].str.lower().str.strip()\n",
    "    df['genre'].value_counts().head()"
   ]
  },
  {
   "cell_type": "markdown",
   "id": "6caa66bc",
   "metadata": {},
   "source": [
    "### 5. Outliers en duración o presupuesto\n",
    "Detección y manejo de valores extremos en variables numéricas.\n"
   ]
  },
  {
   "cell_type": "code",
   "execution_count": null,
   "id": "88958586",
   "metadata": {},
   "outputs": [],
   "source": [
    "# Boxplot para detectar outliers en 'duration' y 'budget'\n",
    "for col in ['duration', 'budget']:\n",
    "    if col in df.columns:\n",
    "        sns.boxplot(x=df[col])\n",
    "        plt.title(f'Distribución de {col}')\n",
    "        plt.show()"
   ]
  },
  {
   "cell_type": "markdown",
   "id": "85754ac0",
   "metadata": {},
   "source": [
    "## Dataset Limpio"
   ]
  },
  {
   "cell_type": "code",
   "execution_count": null,
   "id": "40355747",
   "metadata": {},
   "outputs": [],
   "source": [
    "df.head()"
   ]
  }
 ],
 "metadata": {},
 "nbformat": 4,
 "nbformat_minor": 5
}
