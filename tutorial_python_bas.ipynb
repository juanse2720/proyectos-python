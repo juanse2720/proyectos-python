{
 "cells": [
  {
   "cell_type": "markdown",
   "id": "ab83d306",
   "metadata": {},
   "source": [
    "# Tutorial de Python para principiantes\n",
    "\n",
    "Autor: Juan Sebastián Agudelo Tamayo\n",
    "\n",
    "# ¿Qué es Python?\n",
    "\n",
    "Python es un lenguaje fácil de aprender y muy usado para tareas como análisis de datos, desarrollo web, automatización, etc.\n",
    "En este tutorial aprenderemos lo basico de Python."
   ]
  },
  {
   "cell_type": "markdown",
   "id": "9adf99ee",
   "metadata": {},
   "source": [
    "# Crear variables\n",
    "Una variable es un espacio en la memoria que almacena un valor con un nombre."
   ]
  },
  {
   "cell_type": "code",
   "execution_count": 1,
   "id": "381d9eac",
   "metadata": {},
   "outputs": [],
   "source": [
    "nombre = \"Sebastian\"\n",
    "edad = 21\n",
    "precio = 69.45\n",
    "activo = True"
   ]
  },
  {
   "cell_type": "markdown",
   "id": "c2eaec29",
   "metadata": {},
   "source": [
    "# Tipos de datos en Python\n",
    "\n",
    "Los principales tipos de datos son:"
   ]
  },
  {
   "cell_type": "code",
   "execution_count": 2,
   "id": "db3759cf",
   "metadata": {},
   "outputs": [
    {
     "name": "stdout",
     "output_type": "stream",
     "text": [
      "<class 'str'>\n",
      "<class 'int'>\n",
      "<class 'float'>\n",
      "<class 'bool'>\n"
     ]
    }
   ],
   "source": [
    "print(type(nombre))  # str\n",
    "print(type(edad))    # int\n",
    "print(type(precio))  # float\n",
    "print(type(activo))  # bool"
   ]
  },
  {
   "cell_type": "markdown",
   "id": "7afc80be",
   "metadata": {},
   "source": [
    "# Conversión de tipos"
   ]
  },
  {
   "cell_type": "code",
   "execution_count": 3,
   "id": "784c4202",
   "metadata": {},
   "outputs": [],
   "source": [
    "edad_texto = str(edad)\n",
    "precio_num = float(\"69.45\")"
   ]
  },
  {
   "cell_type": "markdown",
   "id": "b509a7db",
   "metadata": {},
   "source": [
    "# Operaciones básicas\n",
    "Se ejecutan operaciones bascas matemáticas."
   ]
  },
  {
   "cell_type": "code",
   "execution_count": 4,
   "id": "e3a9e485",
   "metadata": {},
   "outputs": [
    {
     "name": "stdout",
     "output_type": "stream",
     "text": [
      "7\n",
      "2\n",
      "5.0\n",
      "8\n"
     ]
    }
   ],
   "source": [
    "print(2 + 5)\n",
    "print(3 - 1)\n",
    "print(10 / 2)\n",
    "print(2 ** 3)"
   ]
  },
  {
   "cell_type": "markdown",
   "id": "4f858372",
   "metadata": {},
   "source": [
    "# Operaciones lógicas"
   ]
  },
  {
   "cell_type": "code",
   "execution_count": 5,
   "id": "d8771483",
   "metadata": {},
   "outputs": [
    {
     "name": "stdout",
     "output_type": "stream",
     "text": [
      "True\n",
      "True\n",
      "True\n"
     ]
    }
   ],
   "source": [
    "print(5 > 3)     # True\n",
    "print(3 == 3)    # True\n",
    "print(4 != 5)    # True"
   ]
  },
  {
   "cell_type": "markdown",
   "id": "4abd143c",
   "metadata": {},
   "source": [
    "# Clases y objetos"
   ]
  },
  {
   "cell_type": "code",
   "execution_count": 6,
   "id": "02f10763",
   "metadata": {},
   "outputs": [
    {
     "name": "stdout",
     "output_type": "stream",
     "text": [
      "Hola, soy Sebastián\n"
     ]
    }
   ],
   "source": [
    "class Persona:\n",
    "    def __init__(self, nombre):\n",
    "        self.nombre = nombre\n",
    "\n",
    "    def saludar(self):\n",
    "        print(f\"Hola, soy {self.nombre}\")\n",
    "\n",
    "p1 = Persona(\"Sebastián\")\n",
    "p1.saludar()"
   ]
  },
  {
   "cell_type": "markdown",
   "id": "d1fdf8d4",
   "metadata": {},
   "source": [
    "# Listas\n",
    "Es una colección de datos."
   ]
  },
  {
   "cell_type": "code",
   "execution_count": 7,
   "id": "9f4630fc",
   "metadata": {},
   "outputs": [
    {
     "name": "stdout",
     "output_type": "stream",
     "text": [
      "manzana\n"
     ]
    }
   ],
   "source": [
    "frutas = [\"manzana\", \"banana\", \"pera\"]\n",
    "print(frutas[0])"
   ]
  },
  {
   "cell_type": "markdown",
   "id": "9016a4f5",
   "metadata": {},
   "source": [
    "# Tuplas\n",
    "Una **tupla** es una colección de datos **ordenada e inmutable**, lo que significa que sus elementos no se pueden cambiar después de ser creados."
   ]
  },
  {
   "cell_type": "code",
   "execution_count": 8,
   "id": "6e29910b",
   "metadata": {},
   "outputs": [],
   "source": [
    "colores = (\"rojo\", \"verde\", \"azul\")"
   ]
  },
  {
   "cell_type": "markdown",
   "id": "2503d1f2",
   "metadata": {},
   "source": [
    "# Estructuras de control\n",
    "Las **estructuras de control** son herramientas que permiten tomar decisiones o repetir acciones en un programa."
   ]
  },
  {
   "cell_type": "code",
   "execution_count": 9,
   "id": "1ae62a28",
   "metadata": {},
   "outputs": [
    {
     "name": "stdout",
     "output_type": "stream",
     "text": [
      "Es mayor de edad\n"
     ]
    }
   ],
   "source": [
    "edad = 18\n",
    "if edad >= 18:\n",
    "    print(\"Es mayor de edad\")\n",
    "else:\n",
    "    print(\"Es menor de edad\")"
   ]
  }
 ],
 "metadata": {
  "kernelspec": {
   "display_name": "Python 3",
   "language": "python",
   "name": "python3"
  },
  "language_info": {
   "codemirror_mode": {
    "name": "ipython",
    "version": 3
   },
   "file_extension": ".py",
   "mimetype": "text/x-python",
   "name": "python",
   "nbconvert_exporter": "python",
   "pygments_lexer": "ipython3",
   "version": "3.13.3"
  }
 },
 "nbformat": 4,
 "nbformat_minor": 5
}
